{
 "cells": [
  {
   "cell_type": "code",
   "execution_count": 1,
   "metadata": {},
   "outputs": [],
   "source": [
    "import turtle\n",
    "from turtle import *"
   ]
  },
  {
   "cell_type": "code",
   "execution_count": 2,
   "metadata": {},
   "outputs": [],
   "source": [
    "#screen for output\n",
    "screen =turtle.Screen()"
   ]
  },
  {
   "cell_type": "code",
   "execution_count": 3,
   "metadata": {},
   "outputs": [],
   "source": [
    "#Defining the turtle instance\n",
    "t=turtle.Turtle()\n",
    "speed(0)"
   ]
  },
  {
   "cell_type": "code",
   "execution_count": 4,
   "metadata": {},
   "outputs": [],
   "source": [
    "#initially penup\n",
    "t.penup()\n",
    "t.goto(-400,250)\n",
    "t.pendown()"
   ]
  },
  {
   "cell_type": "code",
   "execution_count": 5,
   "metadata": {},
   "outputs": [],
   "source": [
    "#Orange rectangle\n",
    "#white rectangle\n",
    "t.color('orange')\n",
    "t.begin_fill()\n",
    "t.forward(800)\n",
    "t.right(90)\n",
    "t.forward(167)\n",
    "t.right(90)\n",
    "t.forward(800)\n",
    "t.end_fill()\n",
    "t.left(90)\n",
    "t.forward(167)"
   ]
  },
  {
   "cell_type": "code",
   "execution_count": 6,
   "metadata": {},
   "outputs": [],
   "source": [
    "#Green rectangle\n",
    "t.color('green')\n",
    "t.begin_fill()\n",
    "t.forward(167)\n",
    "t.left(90)\n",
    "t.forward(800)\n",
    "t.left(90)\n",
    "t.forward(167)\n",
    "t.end_fill()"
   ]
  },
  {
   "cell_type": "code",
   "execution_count": 7,
   "metadata": {},
   "outputs": [],
   "source": [
    "#Big white circle\n",
    "t.penup()\n",
    "t.goto(60,0)\n",
    "t.pendown()\n",
    "t.color(\"white\")\n",
    "t.begin_fill()\n",
    "t.circle(60)\n",
    "t.end_fill()\n"
   ]
  },
  {
   "cell_type": "code",
   "execution_count": 8,
   "metadata": {},
   "outputs": [],
   "source": [
    "#Mini Blue circles\n",
    "t.penup()\n",
    "t.goto(-57,-8)\n",
    "t.pendown()\n",
    "t.color(\"navy\")\n",
    "for i in range(24):\n",
    "    t.begin_fill()\n",
    "    t.circle(3)\n",
    "    t.end_fill()\n",
    "    t.penup()\n",
    "    t.forward(15)\n",
    "    t.right(15)\n",
    "    t.pendown()"
   ]
  },
  {
   "cell_type": "code",
   "execution_count": 9,
   "metadata": {},
   "outputs": [],
   "source": [
    "#Small blue circle\n",
    "t.penup()\n",
    "t.goto(20,0)\n",
    "t.pendown()\n",
    "t.begin_fill()\n",
    "t.circle(20)\n",
    "t.end_fill()"
   ]
  },
  {
   "cell_type": "code",
   "execution_count": 10,
   "metadata": {},
   "outputs": [],
   "source": [
    "#Spokes\n",
    "t.penup()\n",
    "t.goto(0,0)\n",
    "t.pendown()\n",
    "t.pensize(2)\n",
    "for i in range(24):\n",
    "    t.forward(60)\n",
    "    t.backward(60)\n",
    "    t.left(15)\n",
    "    \n",
    "    "
   ]
  },
  {
   "cell_type": "code",
   "execution_count": 11,
   "metadata": {},
   "outputs": [],
   "source": [
    "#To hold the output window\n",
    "turtle.done()"
   ]
  }
 ],
 "metadata": {
  "kernelspec": {
   "display_name": "Python 3",
   "language": "python",
   "name": "python3"
  },
  "language_info": {
   "codemirror_mode": {
    "name": "ipython",
    "version": 3
   },
   "file_extension": ".py",
   "mimetype": "text/x-python",
   "name": "python",
   "nbconvert_exporter": "python",
   "pygments_lexer": "ipython3",
   "version": "3.8.3"
  }
 },
 "nbformat": 4,
 "nbformat_minor": 4
}
